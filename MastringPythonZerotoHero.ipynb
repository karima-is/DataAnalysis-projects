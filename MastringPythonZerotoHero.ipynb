{
 "cells": [
  {
   "cell_type": "markdown",
   "id": "e6693747",
   "metadata": {},
   "source": [
    "# This is python "
   ]
  },
  {
   "cell_type": "markdown",
   "id": "a5591622",
   "metadata": {},
   "source": [
    "this is first program in python:"
   ]
  },
  {
   "cell_type": "code",
   "execution_count": 2,
   "id": "58ca3d9f",
   "metadata": {},
   "outputs": [
    {
     "name": "stdout",
     "output_type": "stream",
     "text": [
      "Hello World\n"
     ]
    }
   ],
   "source": [
    "print (\"Hello World\")"
   ]
  },
  {
   "cell_type": "markdown",
   "id": "66b5f15e",
   "metadata": {},
   "source": [
    "# Variables"
   ]
  },
  {
   "cell_type": "code",
   "execution_count": 5,
   "id": "9817d3b6",
   "metadata": {},
   "outputs": [],
   "source": [
    "x = 3"
   ]
  },
  {
   "cell_type": "code",
   "execution_count": 6,
   "id": "d90270c4",
   "metadata": {},
   "outputs": [
    {
     "name": "stdout",
     "output_type": "stream",
     "text": [
      "Variable   Type    Data/Info\n",
      "----------------------------\n",
      "x          int     3\n"
     ]
    }
   ],
   "source": [
    "%whos"
   ]
  },
  {
   "cell_type": "code",
   "execution_count": 7,
   "id": "12a065ad",
   "metadata": {},
   "outputs": [
    {
     "name": "stdout",
     "output_type": "stream",
     "text": [
      "<class 'int'>\n"
     ]
    }
   ],
   "source": [
    "print(type(x))"
   ]
  },
  {
   "cell_type": "code",
   "execution_count": 8,
   "id": "e8fcf43e",
   "metadata": {},
   "outputs": [],
   "source": [
    "x =5.7"
   ]
  },
  {
   "cell_type": "code",
   "execution_count": 9,
   "id": "aad77937",
   "metadata": {},
   "outputs": [
    {
     "name": "stdout",
     "output_type": "stream",
     "text": [
      "Variable   Type     Data/Info\n",
      "-----------------------------\n",
      "x          float    5.7\n"
     ]
    }
   ],
   "source": [
    "%whos"
   ]
  },
  {
   "cell_type": "code",
   "execution_count": 10,
   "id": "3b128458",
   "metadata": {},
   "outputs": [
    {
     "name": "stdout",
     "output_type": "stream",
     "text": [
      "<class 'float'>\n"
     ]
    }
   ],
   "source": [
    "print (type(x))"
   ]
  },
  {
   "cell_type": "code",
   "execution_count": 11,
   "id": "f2bc5d72",
   "metadata": {},
   "outputs": [],
   "source": [
    "abcd = 556.32"
   ]
  },
  {
   "cell_type": "code",
   "execution_count": 12,
   "id": "a083689e",
   "metadata": {},
   "outputs": [
    {
     "name": "stdout",
     "output_type": "stream",
     "text": [
      "Variable   Type     Data/Info\n",
      "-----------------------------\n",
      "abcd       float    556.32\n",
      "x          float    5.7\n"
     ]
    }
   ],
   "source": [
    "%whos"
   ]
  },
  {
   "cell_type": "code",
   "execution_count": 13,
   "id": "0acf8e2e",
   "metadata": {},
   "outputs": [],
   "source": [
    "a,b,c,d,f = 3,5,6.0,7.5,-3"
   ]
  },
  {
   "cell_type": "code",
   "execution_count": 14,
   "id": "588d54b1",
   "metadata": {},
   "outputs": [
    {
     "name": "stdout",
     "output_type": "stream",
     "text": [
      "Variable   Type     Data/Info\n",
      "-----------------------------\n",
      "a          int      3\n",
      "abcd       float    556.32\n",
      "b          int      5\n",
      "c          float    6.0\n",
      "d          float    7.5\n",
      "f          int      -3\n",
      "x          float    5.7\n"
     ]
    }
   ],
   "source": [
    "%whos"
   ]
  },
  {
   "cell_type": "code",
   "execution_count": 15,
   "id": "cf913b20",
   "metadata": {},
   "outputs": [],
   "source": [
    "del abcd"
   ]
  },
  {
   "cell_type": "code",
   "execution_count": 16,
   "id": "26e2c0e7",
   "metadata": {},
   "outputs": [
    {
     "name": "stdout",
     "output_type": "stream",
     "text": [
      "Variable   Type     Data/Info\n",
      "-----------------------------\n",
      "a          int      3\n",
      "b          int      5\n",
      "c          float    6.0\n",
      "d          float    7.5\n",
      "f          int      -3\n",
      "x          float    5.7\n"
     ]
    }
   ],
   "source": [
    "%whos"
   ]
  },
  {
   "cell_type": "code",
   "execution_count": 17,
   "id": "07409a12",
   "metadata": {},
   "outputs": [
    {
     "data": {
      "text/plain": [
       "<function print>"
      ]
     },
     "execution_count": 17,
     "metadata": {},
     "output_type": "execute_result"
    }
   ],
   "source": [
    "print"
   ]
  },
  {
   "cell_type": "code",
   "execution_count": 18,
   "id": "b69e9276",
   "metadata": {},
   "outputs": [
    {
     "ename": "NameError",
     "evalue": "name 'abcd' is not defined",
     "output_type": "error",
     "traceback": [
      "\u001b[1;31m---------------------------------------------------------------------------\u001b[0m",
      "\u001b[1;31mNameError\u001b[0m                                 Traceback (most recent call last)",
      "Input \u001b[1;32mIn [18]\u001b[0m, in \u001b[0;36m<cell line: 1>\u001b[1;34m()\u001b[0m\n\u001b[1;32m----> 1\u001b[0m \u001b[38;5;28mprint\u001b[39m(\u001b[43mabcd\u001b[49m)\n",
      "\u001b[1;31mNameError\u001b[0m: name 'abcd' is not defined"
     ]
    }
   ],
   "source": [
    "print(abcd)"
   ]
  },
  {
   "cell_type": "code",
   "execution_count": 19,
   "id": "455c69d4",
   "metadata": {},
   "outputs": [],
   "source": [
    "c =2+4j"
   ]
  },
  {
   "cell_type": "code",
   "execution_count": 20,
   "id": "791eb392",
   "metadata": {},
   "outputs": [
    {
     "name": "stdout",
     "output_type": "stream",
     "text": [
      "<class 'complex'>\n"
     ]
    }
   ],
   "source": [
    "print(type(c))"
   ]
  },
  {
   "cell_type": "code",
   "execution_count": 21,
   "id": "964b4be9",
   "metadata": {},
   "outputs": [],
   "source": [
    "s = \"hello world\""
   ]
  },
  {
   "cell_type": "code",
   "execution_count": 22,
   "id": "cecc573e",
   "metadata": {},
   "outputs": [
    {
     "name": "stdout",
     "output_type": "stream",
     "text": [
      "hello world\n"
     ]
    }
   ],
   "source": [
    "print(s)"
   ]
  },
  {
   "cell_type": "code",
   "execution_count": 23,
   "id": "e0805884",
   "metadata": {},
   "outputs": [
    {
     "name": "stdout",
     "output_type": "stream",
     "text": [
      "<class 'str'>\n"
     ]
    }
   ],
   "source": [
    "print(type(s))"
   ]
  },
  {
   "cell_type": "code",
   "execution_count": null,
   "id": "f10e11f4",
   "metadata": {},
   "outputs": [],
   "source": []
  },
  {
   "cell_type": "markdown",
   "id": "7d5651ee",
   "metadata": {},
   "source": [
    "# Operators"
   ]
  },
  {
   "cell_type": "code",
   "execution_count": 24,
   "id": "b032ed9f",
   "metadata": {},
   "outputs": [
    {
     "name": "stdout",
     "output_type": "stream",
     "text": [
      "Variable   Type       Data/Info\n",
      "-------------------------------\n",
      "a          int        3\n",
      "b          int        5\n",
      "c          complex    (2+4j)\n",
      "d          float      7.5\n",
      "f          int        -3\n",
      "s          str        hello world\n",
      "x          float      5.7\n"
     ]
    }
   ],
   "source": [
    "%whos"
   ]
  },
  {
   "cell_type": "code",
   "execution_count": 25,
   "id": "7936846d",
   "metadata": {},
   "outputs": [],
   "source": [
    "sumOfaAndb = a+b"
   ]
  },
  {
   "cell_type": "code",
   "execution_count": 26,
   "id": "9e227a9e",
   "metadata": {},
   "outputs": [
    {
     "name": "stdout",
     "output_type": "stream",
     "text": [
      "8\n"
     ]
    }
   ],
   "source": [
    "print(sumOfaAndb)"
   ]
  },
  {
   "cell_type": "code",
   "execution_count": 27,
   "id": "6773bb94",
   "metadata": {},
   "outputs": [
    {
     "data": {
      "text/plain": [
       "int"
      ]
     },
     "execution_count": 27,
     "metadata": {},
     "output_type": "execute_result"
    }
   ],
   "source": [
    "type(sumOfaAndb)"
   ]
  },
  {
   "cell_type": "code",
   "execution_count": 28,
   "id": "a67bb4e6",
   "metadata": {},
   "outputs": [
    {
     "data": {
      "text/plain": [
       "float"
      ]
     },
     "execution_count": 28,
     "metadata": {},
     "output_type": "execute_result"
    }
   ],
   "source": [
    "type(a+d)"
   ]
  },
  {
   "cell_type": "code",
   "execution_count": 29,
   "id": "87f8bbb7",
   "metadata": {},
   "outputs": [],
   "source": [
    "v =((a+d)**3)/4"
   ]
  },
  {
   "cell_type": "code",
   "execution_count": 30,
   "id": "fc889f86",
   "metadata": {},
   "outputs": [
    {
     "name": "stdout",
     "output_type": "stream",
     "text": [
      "289.40625\n"
     ]
    }
   ],
   "source": [
    "print(v)"
   ]
  },
  {
   "cell_type": "code",
   "execution_count": 31,
   "id": "46ccf2c0",
   "metadata": {},
   "outputs": [
    {
     "name": "stdout",
     "output_type": "stream",
     "text": [
      "HelloWorld\n"
     ]
    }
   ],
   "source": [
    "s1 = (\"Hello\")\n",
    "s2 = (\"World\")\n",
    "s3 = (s1+s2)\n",
    "print(s3)"
   ]
  },
  {
   "cell_type": "code",
   "execution_count": 32,
   "id": "b2faeac8",
   "metadata": {},
   "outputs": [],
   "source": [
    "x = !3"
   ]
  },
  {
   "cell_type": "code",
   "execution_count": 33,
   "id": "6f1309b6",
   "metadata": {},
   "outputs": [
    {
     "name": "stdout",
     "output_type": "stream",
     "text": [
      "<class 'IPython.utils.text.SList'>\n"
     ]
    }
   ],
   "source": [
    "print(type(x))"
   ]
  },
  {
   "cell_type": "code",
   "execution_count": 34,
   "id": "a99e4c7e",
   "metadata": {},
   "outputs": [
    {
     "ename": "SyntaxError",
     "evalue": "starred assignment target must be in a list or tuple (586144205.py, line 1)",
     "output_type": "error",
     "traceback": [
      "\u001b[1;36m  Input \u001b[1;32mIn [34]\u001b[1;36m\u001b[0m\n\u001b[1;33m    *t=4\u001b[0m\n\u001b[1;37m    ^\u001b[0m\n\u001b[1;31mSyntaxError\u001b[0m\u001b[1;31m:\u001b[0m starred assignment target must be in a list or tuple\n"
     ]
    }
   ],
   "source": [
    "*t=4"
   ]
  },
  {
   "cell_type": "code",
   "execution_count": 35,
   "id": "304eb6c8",
   "metadata": {},
   "outputs": [],
   "source": [
    "_e = 9"
   ]
  },
  {
   "cell_type": "code",
   "execution_count": null,
   "id": "2928a927",
   "metadata": {},
   "outputs": [],
   "source": [
    " "
   ]
  },
  {
   "cell_type": "markdown",
   "id": "d3d533a7",
   "metadata": {},
   "source": [
    "# Bool"
   ]
  },
  {
   "cell_type": "code",
   "execution_count": 36,
   "id": "e7f105c5",
   "metadata": {},
   "outputs": [],
   "source": [
    "a = True\n",
    "b = True\n",
    "c = False"
   ]
  },
  {
   "cell_type": "code",
   "execution_count": 37,
   "id": "d9345863",
   "metadata": {},
   "outputs": [
    {
     "name": "stdout",
     "output_type": "stream",
     "text": [
      "Variable     Type     Data/Info\n",
      "-------------------------------\n",
      "a            bool     True\n",
      "b            bool     True\n",
      "c            bool     False\n",
      "d            float    7.5\n",
      "f            int      -3\n",
      "s            str      hello world\n",
      "s1           str      Hello\n",
      "s2           str      World\n",
      "s3           str      HelloWorld\n",
      "sumOfaAndb   int      8\n",
      "v            float    289.40625\n",
      "x            SList    [\"'3' is not recognized a<...> program or batch file.']\n"
     ]
    }
   ],
   "source": [
    "%whos"
   ]
  },
  {
   "cell_type": "code",
   "execution_count": 38,
   "id": "21249ee4",
   "metadata": {},
   "outputs": [
    {
     "name": "stdout",
     "output_type": "stream",
     "text": [
      "True\n",
      "False\n",
      "False\n"
     ]
    }
   ],
   "source": [
    "print(a and b)\n",
    "print(a and c)\n",
    "print(c and a)"
   ]
  },
  {
   "cell_type": "code",
   "execution_count": 39,
   "id": "8db16310",
   "metadata": {},
   "outputs": [
    {
     "name": "stdout",
     "output_type": "stream",
     "text": [
      "True\n",
      "True\n",
      "True\n"
     ]
    }
   ],
   "source": [
    "print(a or b)\n",
    "print(a or c)\n",
    "print(c or a)"
   ]
  },
  {
   "cell_type": "code",
   "execution_count": 40,
   "id": "8e7e2535",
   "metadata": {},
   "outputs": [
    {
     "data": {
      "text/plain": [
       "False"
      ]
     },
     "execution_count": 40,
     "metadata": {},
     "output_type": "execute_result"
    }
   ],
   "source": [
    "not (a)"
   ]
  },
  {
   "cell_type": "code",
   "execution_count": 41,
   "id": "6e999ffc",
   "metadata": {},
   "outputs": [
    {
     "data": {
      "text/plain": [
       "False"
      ]
     },
     "execution_count": 41,
     "metadata": {},
     "output_type": "execute_result"
    }
   ],
   "source": [
    "not (b)"
   ]
  },
  {
   "cell_type": "code",
   "execution_count": 42,
   "id": "887292ee",
   "metadata": {},
   "outputs": [
    {
     "data": {
      "text/plain": [
       "True"
      ]
     },
     "execution_count": 42,
     "metadata": {},
     "output_type": "execute_result"
    }
   ],
   "source": [
    "not (c)"
   ]
  },
  {
   "cell_type": "code",
   "execution_count": 43,
   "id": "f3e81138",
   "metadata": {},
   "outputs": [
    {
     "data": {
      "text/plain": [
       "bool"
      ]
     },
     "execution_count": 43,
     "metadata": {},
     "output_type": "execute_result"
    }
   ],
   "source": [
    "type(a)"
   ]
  },
  {
   "cell_type": "code",
   "execution_count": 44,
   "id": "ab70139f",
   "metadata": {},
   "outputs": [
    {
     "data": {
      "text/plain": [
       "False"
      ]
     },
     "execution_count": 44,
     "metadata": {},
     "output_type": "execute_result"
    }
   ],
   "source": [
    "not ((a and b) or (c or d))"
   ]
  },
  {
   "cell_type": "code",
   "execution_count": null,
   "id": "fe2e71c3",
   "metadata": {},
   "outputs": [],
   "source": []
  },
  {
   "cell_type": "markdown",
   "id": "625d813b",
   "metadata": {},
   "source": [
    "# Comparisons"
   ]
  },
  {
   "cell_type": "code",
   "execution_count": 45,
   "id": "4178be6b",
   "metadata": {},
   "outputs": [
    {
     "name": "stdout",
     "output_type": "stream",
     "text": [
      "True\n"
     ]
    }
   ],
   "source": [
    "print(2<3)"
   ]
  },
  {
   "cell_type": "code",
   "execution_count": 48,
   "id": "eeb6800f",
   "metadata": {},
   "outputs": [
    {
     "name": "stdout",
     "output_type": "stream",
     "text": [
      "<class 'bool'>\n",
      "True\n"
     ]
    }
   ],
   "source": [
    "c=2<3\n",
    "print(type(c))\n",
    "print(c)"
   ]
  },
  {
   "cell_type": "code",
   "execution_count": 49,
   "id": "118c77ea",
   "metadata": {},
   "outputs": [
    {
     "data": {
      "text/plain": [
       "False"
      ]
     },
     "execution_count": 49,
     "metadata": {},
     "output_type": "execute_result"
    }
   ],
   "source": [
    "3==4"
   ]
  },
  {
   "cell_type": "code",
   "execution_count": 50,
   "id": "fcb370a5",
   "metadata": {},
   "outputs": [],
   "source": [
    "d= 3==4"
   ]
  },
  {
   "cell_type": "code",
   "execution_count": 53,
   "id": "7af44d86",
   "metadata": {},
   "outputs": [
    {
     "name": "stdout",
     "output_type": "stream",
     "text": [
      "<class 'bool'>\n",
      "False\n"
     ]
    }
   ],
   "source": [
    "print(type(d))\n",
    "print(d)"
   ]
  },
  {
   "cell_type": "code",
   "execution_count": 54,
   "id": "fc746f1d",
   "metadata": {},
   "outputs": [
    {
     "data": {
      "text/plain": [
       "True"
      ]
     },
     "execution_count": 54,
     "metadata": {},
     "output_type": "execute_result"
    }
   ],
   "source": [
    "3==3.0"
   ]
  },
  {
   "cell_type": "code",
   "execution_count": 55,
   "id": "1051bd5c",
   "metadata": {},
   "outputs": [],
   "source": [
    "x= 4\n",
    "y= 9\n",
    "z= 8.3\n",
    "r= -3"
   ]
  },
  {
   "cell_type": "code",
   "execution_count": 56,
   "id": "1b9c7746",
   "metadata": {},
   "outputs": [
    {
     "data": {
      "text/plain": [
       "True"
      ]
     },
     "execution_count": 56,
     "metadata": {},
     "output_type": "execute_result"
    }
   ],
   "source": [
    "x<y"
   ]
  },
  {
   "cell_type": "code",
   "execution_count": 57,
   "id": "3a15e693",
   "metadata": {},
   "outputs": [
    {
     "data": {
      "text/plain": [
       "True"
      ]
     },
     "execution_count": 57,
     "metadata": {},
     "output_type": "execute_result"
    }
   ],
   "source": [
    "(x<y) and (z<y) or (r==y)"
   ]
  },
  {
   "cell_type": "code",
   "execution_count": 59,
   "id": "747cded4",
   "metadata": {},
   "outputs": [
    {
     "data": {
      "text/plain": [
       "True"
      ]
     },
     "execution_count": 59,
     "metadata": {},
     "output_type": "execute_result"
    }
   ],
   "source": [
    "(x<y) or (r==y) and (z<y)"
   ]
  },
  {
   "cell_type": "code",
   "execution_count": 60,
   "id": "73b47be7",
   "metadata": {},
   "outputs": [
    {
     "data": {
      "text/plain": [
       "False"
      ]
     },
     "execution_count": 60,
     "metadata": {},
     "output_type": "execute_result"
    }
   ],
   "source": [
    "(r==y) and (x<y) or (z>y)"
   ]
  },
  {
   "cell_type": "code",
   "execution_count": 61,
   "id": "21b18cc3",
   "metadata": {},
   "outputs": [
    {
     "data": {
      "text/plain": [
       "True"
      ]
     },
     "execution_count": 61,
     "metadata": {},
     "output_type": "execute_result"
    }
   ],
   "source": [
    "True or False and True"
   ]
  },
  {
   "cell_type": "code",
   "execution_count": 62,
   "id": "e26e3b8d",
   "metadata": {},
   "outputs": [
    {
     "data": {
      "text/plain": [
       "True"
      ]
     },
     "execution_count": 62,
     "metadata": {},
     "output_type": "execute_result"
    }
   ],
   "source": [
    "True and False or True"
   ]
  },
  {
   "cell_type": "code",
   "execution_count": 63,
   "id": "552297de",
   "metadata": {},
   "outputs": [
    {
     "data": {
      "text/plain": [
       "True"
      ]
     },
     "execution_count": 63,
     "metadata": {},
     "output_type": "execute_result"
    }
   ],
   "source": [
    "False and False or True"
   ]
  },
  {
   "cell_type": "code",
   "execution_count": 64,
   "id": "080c621e",
   "metadata": {},
   "outputs": [
    {
     "data": {
      "text/plain": [
       "False"
      ]
     },
     "execution_count": 64,
     "metadata": {},
     "output_type": "execute_result"
    }
   ],
   "source": [
    "False or False and True"
   ]
  },
  {
   "cell_type": "code",
   "execution_count": 67,
   "id": "85035008",
   "metadata": {},
   "outputs": [
    {
     "name": "stdout",
     "output_type": "stream",
     "text": [
      "False\n"
     ]
    }
   ],
   "source": [
    "print((not(2!=3) and True) or (False and True))"
   ]
  },
  {
   "cell_type": "code",
   "execution_count": null,
   "id": "c7def859",
   "metadata": {},
   "outputs": [],
   "source": []
  },
  {
   "cell_type": "markdown",
   "id": "3ae5e3c3",
   "metadata": {},
   "source": [
    "# Some Useful Functions:"
   ]
  },
  {
   "cell_type": "code",
   "execution_count": 68,
   "id": "f1cfac4a",
   "metadata": {},
   "outputs": [
    {
     "data": {
      "text/plain": [
       "5"
      ]
     },
     "execution_count": 68,
     "metadata": {},
     "output_type": "execute_result"
    }
   ],
   "source": [
    "round(4.9)"
   ]
  },
  {
   "cell_type": "code",
   "execution_count": 69,
   "id": "f34c8f04",
   "metadata": {},
   "outputs": [
    {
     "data": {
      "text/plain": [
       "2"
      ]
     },
     "execution_count": 69,
     "metadata": {},
     "output_type": "execute_result"
    }
   ],
   "source": [
    "round(2.2)"
   ]
  },
  {
   "cell_type": "code",
   "execution_count": 70,
   "id": "262f95fd",
   "metadata": {},
   "outputs": [
    {
     "data": {
      "text/plain": [
       "(5, 2)"
      ]
     },
     "execution_count": 70,
     "metadata": {},
     "output_type": "execute_result"
    }
   ],
   "source": [
    "divmod(27,5)"
   ]
  },
  {
   "cell_type": "code",
   "execution_count": 72,
   "id": "5abf3514",
   "metadata": {},
   "outputs": [],
   "source": [
    " g= divmod(34,9)"
   ]
  },
  {
   "cell_type": "code",
   "execution_count": 73,
   "id": "b4a2f73d",
   "metadata": {},
   "outputs": [
    {
     "name": "stdout",
     "output_type": "stream",
     "text": [
      "(3, 7)\n"
     ]
    }
   ],
   "source": [
    "print(g)"
   ]
  },
  {
   "cell_type": "code",
   "execution_count": 74,
   "id": "fe5147f5",
   "metadata": {},
   "outputs": [
    {
     "data": {
      "text/plain": [
       "3"
      ]
     },
     "execution_count": 74,
     "metadata": {},
     "output_type": "execute_result"
    }
   ],
   "source": [
    "g[0]"
   ]
  },
  {
   "cell_type": "code",
   "execution_count": 75,
   "id": "7b79aad9",
   "metadata": {},
   "outputs": [
    {
     "data": {
      "text/plain": [
       "7"
      ]
     },
     "execution_count": 75,
     "metadata": {},
     "output_type": "execute_result"
    }
   ],
   "source": [
    "g[1]"
   ]
  },
  {
   "cell_type": "code",
   "execution_count": 76,
   "id": "1f26befe",
   "metadata": {},
   "outputs": [
    {
     "data": {
      "text/plain": [
       "3"
      ]
     },
     "execution_count": 76,
     "metadata": {},
     "output_type": "execute_result"
    }
   ],
   "source": [
    "34//9"
   ]
  },
  {
   "cell_type": "code",
   "execution_count": 77,
   "id": "33910b41",
   "metadata": {},
   "outputs": [
    {
     "data": {
      "text/plain": [
       "7"
      ]
     },
     "execution_count": 77,
     "metadata": {},
     "output_type": "execute_result"
    }
   ],
   "source": [
    "34%9"
   ]
  },
  {
   "cell_type": "code",
   "execution_count": 78,
   "id": "78281d87",
   "metadata": {},
   "outputs": [
    {
     "data": {
      "text/plain": [
       "True"
      ]
     },
     "execution_count": 78,
     "metadata": {},
     "output_type": "execute_result"
    }
   ],
   "source": [
    " isinstance(1, int)"
   ]
  },
  {
   "cell_type": "code",
   "execution_count": 79,
   "id": "2f565445",
   "metadata": {},
   "outputs": [
    {
     "data": {
      "text/plain": [
       "False"
      ]
     },
     "execution_count": 79,
     "metadata": {},
     "output_type": "execute_result"
    }
   ],
   "source": [
    "isinstance(1.5, int)"
   ]
  },
  {
   "cell_type": "code",
   "execution_count": 80,
   "id": "0d1ed3fe",
   "metadata": {},
   "outputs": [
    {
     "name": "stdout",
     "output_type": "stream",
     "text": [
      "False\n"
     ]
    }
   ],
   "source": [
    "print(isinstance(1.5, int))"
   ]
  },
  {
   "cell_type": "code",
   "execution_count": 81,
   "id": "5853e766",
   "metadata": {},
   "outputs": [
    {
     "data": {
      "text/plain": [
       "32"
      ]
     },
     "execution_count": 81,
     "metadata": {},
     "output_type": "execute_result"
    }
   ],
   "source": [
    "pow(2,5)"
   ]
  },
  {
   "cell_type": "code",
   "execution_count": 82,
   "id": "6e6c773f",
   "metadata": {},
   "outputs": [
    {
     "data": {
      "text/plain": [
       "16"
      ]
     },
     "execution_count": 82,
     "metadata": {},
     "output_type": "execute_result"
    }
   ],
   "source": [
    "2**4"
   ]
  },
  {
   "cell_type": "code",
   "execution_count": 83,
   "id": "6d940ce6",
   "metadata": {},
   "outputs": [
    {
     "data": {
      "text/plain": [
       "2"
      ]
     },
     "execution_count": 83,
     "metadata": {},
     "output_type": "execute_result"
    }
   ],
   "source": [
    "pow(2,4,7)"
   ]
  },
  {
   "cell_type": "code",
   "execution_count": 84,
   "id": "6e2b46f4",
   "metadata": {},
   "outputs": [
    {
     "data": {
      "text/plain": [
       "16"
      ]
     },
     "execution_count": 84,
     "metadata": {},
     "output_type": "execute_result"
    }
   ],
   "source": [
    "pow(2,4)"
   ]
  },
  {
   "cell_type": "code",
   "execution_count": 85,
   "id": "21af6543",
   "metadata": {},
   "outputs": [
    {
     "name": "stdout",
     "output_type": "stream",
     "text": [
      "Enter somethinghi\n"
     ]
    }
   ],
   "source": [
    "a= input(\"Enter something\")"
   ]
  },
  {
   "cell_type": "code",
   "execution_count": 86,
   "id": "10d2b60b",
   "metadata": {},
   "outputs": [
    {
     "name": "stdout",
     "output_type": "stream",
     "text": [
      "Enter a number : 56\n"
     ]
    }
   ],
   "source": [
    "x= input(\"Enter a number : \")"
   ]
  },
  {
   "cell_type": "code",
   "execution_count": 87,
   "id": "43f8a678",
   "metadata": {},
   "outputs": [
    {
     "ename": "SyntaxError",
     "evalue": "invalid syntax (2245789082.py, line 1)",
     "output_type": "error",
     "traceback": [
      "\u001b[1;36m  Input \u001b[1;32mIn [87]\u001b[1;36m\u001b[0m\n\u001b[1;33m    type x\u001b[0m\n\u001b[1;37m         ^\u001b[0m\n\u001b[1;31mSyntaxError\u001b[0m\u001b[1;31m:\u001b[0m invalid syntax\n"
     ]
    }
   ],
   "source": [
    "type x"
   ]
  },
  {
   "cell_type": "code",
   "execution_count": 88,
   "id": "00b16ea1",
   "metadata": {},
   "outputs": [
    {
     "data": {
      "text/plain": [
       "str"
      ]
     },
     "execution_count": 88,
     "metadata": {},
     "output_type": "execute_result"
    }
   ],
   "source": [
    "type(x)"
   ]
  },
  {
   "cell_type": "code",
   "execution_count": 89,
   "id": "c4a063dd",
   "metadata": {},
   "outputs": [
    {
     "name": "stdout",
     "output_type": "stream",
     "text": [
      "Enter a real number : 5.66\n"
     ]
    }
   ],
   "source": [
    " a= float(input(\"Enter a real number : \"))"
   ]
  },
  {
   "cell_type": "code",
   "execution_count": 90,
   "id": "250aa304",
   "metadata": {},
   "outputs": [
    {
     "data": {
      "text/plain": [
       "float"
      ]
     },
     "execution_count": 90,
     "metadata": {},
     "output_type": "execute_result"
    }
   ],
   "source": [
    "type(a)"
   ]
  },
  {
   "cell_type": "code",
   "execution_count": 91,
   "id": "83e777a5",
   "metadata": {},
   "outputs": [
    {
     "name": "stdout",
     "output_type": "stream",
     "text": [
      "Enter a real number : koko\n"
     ]
    },
    {
     "ename": "ValueError",
     "evalue": "could not convert string to float: 'koko'",
     "output_type": "error",
     "traceback": [
      "\u001b[1;31m---------------------------------------------------------------------------\u001b[0m",
      "\u001b[1;31mValueError\u001b[0m                                Traceback (most recent call last)",
      "Input \u001b[1;32mIn [91]\u001b[0m, in \u001b[0;36m<cell line: 1>\u001b[1;34m()\u001b[0m\n\u001b[1;32m----> 1\u001b[0m a\u001b[38;5;241m=\u001b[39m \u001b[38;5;28;43mfloat\u001b[39;49m\u001b[43m(\u001b[49m\u001b[38;5;28;43minput\u001b[39;49m\u001b[43m(\u001b[49m\u001b[38;5;124;43m\"\u001b[39;49m\u001b[38;5;124;43mEnter a real number : \u001b[39;49m\u001b[38;5;124;43m\"\u001b[39;49m\u001b[43m)\u001b[49m\u001b[43m)\u001b[49m\n",
      "\u001b[1;31mValueError\u001b[0m: could not convert string to float: 'koko'"
     ]
    }
   ],
   "source": [
    " a= float(input(\"Enter a real number : \"))"
   ]
  },
  {
   "cell_type": "code",
   "execution_count": 92,
   "id": "134fab2d",
   "metadata": {},
   "outputs": [],
   "source": [
    "pow?"
   ]
  },
  {
   "cell_type": "code",
   "execution_count": 93,
   "id": "6599983e",
   "metadata": {},
   "outputs": [],
   "source": [
    "divmod??"
   ]
  },
  {
   "cell_type": "code",
   "execution_count": 94,
   "id": "e3524636",
   "metadata": {},
   "outputs": [
    {
     "name": "stdout",
     "output_type": "stream",
     "text": [
      "Help on built-in function pow in module builtins:\n",
      "\n",
      "pow(base, exp, mod=None)\n",
      "    Equivalent to base**exp with 2 arguments or base**exp % mod with 3 arguments\n",
      "    \n",
      "    Some types, such as ints, are able to use a more efficient algorithm when\n",
      "    invoked using the three argument form.\n",
      "\n"
     ]
    }
   ],
   "source": [
    "help(pow)"
   ]
  },
  {
   "cell_type": "code",
   "execution_count": 95,
   "id": "798f3113",
   "metadata": {},
   "outputs": [
    {
     "name": "stdout",
     "output_type": "stream",
     "text": [
      "Help on method raw_input in module ipykernel.kernelbase:\n",
      "\n",
      "raw_input(prompt='') method of ipykernel.ipkernel.IPythonKernel instance\n",
      "    Forward raw_input to frontends\n",
      "    \n",
      "    Raises\n",
      "    ------\n",
      "    StdinNotImplementedError if active frontend doesn't support stdin.\n",
      "\n"
     ]
    }
   ],
   "source": [
    "help(input)"
   ]
  },
  {
   "cell_type": "code",
   "execution_count": null,
   "id": "cbe2780b",
   "metadata": {},
   "outputs": [],
   "source": []
  },
  {
   "cell_type": "markdown",
   "id": "72a32f90",
   "metadata": {},
   "source": [
    "# Control flow (if condition)"
   ]
  },
  {
   "cell_type": "code",
   "execution_count": 99,
   "id": "91227fef",
   "metadata": {},
   "outputs": [
    {
     "name": "stdout",
     "output_type": "stream",
     "text": [
      "20\n",
      "10\n",
      "20\n",
      "i'm still inside if condition\n",
      "i'm outside it \n"
     ]
    }
   ],
   "source": [
    "a= int(input())\n",
    "b= int(input())\n",
    "if a>b:\n",
    "    print(a)\n",
    "    print(\"i'm still inside if condition\")\n",
    "print(\"i'm outside it \")"
   ]
  },
  {
   "cell_type": "code",
   "execution_count": 100,
   "id": "1e4a1fe5",
   "metadata": {},
   "outputs": [
    {
     "name": "stdout",
     "output_type": "stream",
     "text": [
      "20\n",
      "10\n",
      "20\n",
      "i'm outside it \n"
     ]
    }
   ],
   "source": [
    "a= int(input())\n",
    "b= int(input())\n",
    "if a>b:\n",
    "    print(a)\n",
    "if b>a:\n",
    "    print(b)\n",
    "print(\"i'm outside it \")"
   ]
  },
  {
   "cell_type": "markdown",
   "id": "fc4cdc66",
   "metadata": {},
   "source": [
    "# Control flow (if-else condition)"
   ]
  },
  {
   "cell_type": "code",
   "execution_count": 103,
   "id": "5efc857a",
   "metadata": {},
   "outputs": [
    {
     "name": "stdout",
     "output_type": "stream",
     "text": [
      "30\n",
      "50\n",
      "50\n"
     ]
    }
   ],
   "source": [
    "a= int(input())\n",
    "b= int(input())\n",
    "if a>b:\n",
    "    print(a)\n",
    "else :\n",
    "    print(b)"
   ]
  },
  {
   "cell_type": "code",
   "execution_count": 104,
   "id": "300926f4",
   "metadata": {},
   "outputs": [
    {
     "name": "stdout",
     "output_type": "stream",
     "text": [
      "10\n",
      "10\n",
      "10\n",
      "else\n"
     ]
    }
   ],
   "source": [
    "a= int(input())\n",
    "b= int(input())\n",
    "if a>b:\n",
    "    print(a)\n",
    "    print(\"if\")\n",
    "else :\n",
    "    print(b)\n",
    "    print(\"else\")"
   ]
  },
  {
   "cell_type": "markdown",
   "id": "d8a6c8f6",
   "metadata": {},
   "source": [
    "# Control flow (if-elif-else condition)"
   ]
  },
  {
   "cell_type": "code",
   "execution_count": 105,
   "id": "ca3f590a",
   "metadata": {},
   "outputs": [
    {
     "name": "stdout",
     "output_type": "stream",
     "text": [
      "10\n",
      "10\n",
      "equal\n",
      "Not in if\n"
     ]
    }
   ],
   "source": [
    "a= int(input())\n",
    "b= int(input())\n",
    "if a==b:\n",
    "    print(\"equal\")\n",
    "elif a>b:\n",
    "    print(\"A\")\n",
    "else :\n",
    "    print(\"B\")\n",
    "print(\"Not in if\")"
   ]
  },
  {
   "cell_type": "markdown",
   "id": "ebf9ad50",
   "metadata": {},
   "source": [
    "# Control flow (short hand if)"
   ]
  },
  {
   "cell_type": "code",
   "execution_count": 108,
   "id": "a90d4675",
   "metadata": {},
   "outputs": [
    {
     "name": "stdout",
     "output_type": "stream",
     "text": [
      "20\n",
      "60\n",
      "B\n"
     ]
    }
   ],
   "source": [
    "a= int(input())\n",
    "b= int(input())\n",
    "print (\"A\") if a>b else print (\"=\") if a==b else print (\"B\")"
   ]
  },
  {
   "cell_type": "markdown",
   "id": "311ec5cc",
   "metadata": {},
   "source": [
    "# Control flow (nested if)"
   ]
  },
  {
   "cell_type": "code",
   "execution_count": 110,
   "id": "79a54b64",
   "metadata": {},
   "outputs": [
    {
     "name": "stdout",
     "output_type": "stream",
     "text": [
      "20\n",
      "your number is above ten\n",
      "below ten\n",
      "outside all ifs\n"
     ]
    }
   ],
   "source": [
    "a= int(input())\n",
    "if a > 10:\n",
    "    print(\"your number is above ten\")\n",
    "    if a > 20:\n",
    "        print(\"and also above 20\")\n",
    "        print(\"nested\")\n",
    "    else:\n",
    "        print(\"below ten\")\n",
    "print(\"outside all ifs\")"
   ]
  },
  {
   "cell_type": "markdown",
   "id": "37f37fea",
   "metadata": {},
   "source": [
    "# Control flow (indentation!)"
   ]
  },
  {
   "cell_type": "code",
   "execution_count": 111,
   "id": "7da42356",
   "metadata": {},
   "outputs": [
    {
     "name": "stdout",
     "output_type": "stream",
     "text": [
      "your number is above ten\n",
      "below ten\n",
      "outside all ifs\n"
     ]
    }
   ],
   "source": [
    "if a > 10:\n",
    "    print(\"your number is above ten\")\n",
    "    if a > 20:\n",
    "        print(\"and also above 20\")\n",
    "        print(\"nested\")\n",
    "    else:\n",
    "        print(\"below ten\")\n",
    "print(\"outside all ifs\")"
   ]
  },
  {
   "cell_type": "code",
   "execution_count": 112,
   "id": "f40933b8",
   "metadata": {},
   "outputs": [
    {
     "name": "stdout",
     "output_type": "stream",
     "text": [
      "your number is above ten\n",
      "outside all ifs\n"
     ]
    }
   ],
   "source": [
    "if a > 10:\n",
    "    print(\"your number is above ten\")\n",
    "    if a > 20:\n",
    "        print(\"and also above 20\")\n",
    "        print(\"nested\")\n",
    "else:\n",
    "        print(\"below ten\")\n",
    "print(\"outside all ifs\")"
   ]
  },
  {
   "cell_type": "markdown",
   "id": "74ac8848",
   "metadata": {},
   "source": [
    "# Control flow (Loop)"
   ]
  },
  {
   "cell_type": "code",
   "execution_count": 115,
   "id": "ed65d979",
   "metadata": {},
   "outputs": [
    {
     "data": {
      "text/plain": [
       "'jjkb,B,,,,GBMBGBGMG\\n'"
      ]
     },
     "execution_count": 115,
     "metadata": {},
     "output_type": "execute_result"
    }
   ],
   "source": [
    "# single comment\n",
    "\"\"\"jjkb,B,,,,GBMBGBGMG\n",
    "\"\"\""
   ]
  },
  {
   "cell_type": "code",
   "execution_count": 116,
   "id": "71ff51c2",
   "metadata": {},
   "outputs": [
    {
     "name": "stdout",
     "output_type": "stream",
     "text": [
      "5\n",
      "1\n",
      "this is iteration numbr : 1\n",
      "4\n",
      "this is iteration numbr : 2\n",
      "9\n",
      "this is iteration numbr : 3\n",
      "16\n",
      "this is iteration numbr : 4\n",
      "Loop done\n"
     ]
    }
   ],
   "source": [
    "n= int(input())\n",
    "i= 1\n",
    "while i<n:\n",
    "    print(i**2)\n",
    "    print(\"this is iteration numbr :\",i)\n",
    "    i+=1 # i = i+1\n",
    "print(\"Loop done\")"
   ]
  },
  {
   "cell_type": "code",
   "execution_count": 117,
   "id": "4160a01c",
   "metadata": {},
   "outputs": [
    {
     "name": "stdout",
     "output_type": "stream",
     "text": [
      "6\n",
      "2\n",
      "4\n",
      "done\n"
     ]
    }
   ],
   "source": [
    "n= int(input())\n",
    "i= 1\n",
    "while i<n:\n",
    "    if i%2 ==0:\n",
    "        print(i)\n",
    "    else:\n",
    "        pass\n",
    "    i+= 1\n",
    "print(\"done\")"
   ]
  },
  {
   "cell_type": "code",
   "execution_count": 123,
   "id": "2039f5ab",
   "metadata": {},
   "outputs": [
    {
     "name": "stdout",
     "output_type": "stream",
     "text": [
      "break\n",
      "done\n"
     ]
    }
   ],
   "source": [
    "n= 10\n",
    "i= 1\n",
    "while True:\n",
    "    if i%9 == 0:\n",
    "        print('break')\n",
    "        break\n",
    "    else:\n",
    "        i+= 1\n",
    "        continue\n",
    "    print (\"i'm inside the loop\")\n",
    "print(\"done\")"
   ]
  },
  {
   "cell_type": "code",
   "execution_count": 126,
   "id": "64b8e7c8",
   "metadata": {},
   "outputs": [
    {
     "name": "stdout",
     "output_type": "stream",
     "text": [
      "if\n",
      "if\n",
      "if\n",
      "if\n",
      "if\n",
      "if\n",
      "if\n",
      "if\n",
      "somthig\n",
      "something2\n",
      "done\n"
     ]
    }
   ],
   "source": [
    "n= 10\n",
    "i= 1\n",
    "while True:\n",
    "    if i%9 != 0:\n",
    "        print(\"if\")\n",
    "        i+= 1\n",
    "        continue\n",
    "    print(\"somthig\")\n",
    "    print(\"something2\")\n",
    "    break\n",
    "print(\"done\")"
   ]
  },
  {
   "cell_type": "markdown",
   "id": "81a98997",
   "metadata": {},
   "source": [
    "# Control flow (for loop)"
   ]
  },
  {
   "cell_type": "code",
   "execution_count": 128,
   "id": "3132f065",
   "metadata": {},
   "outputs": [
    {
     "name": "stdout",
     "output_type": "stream",
     "text": [
      "1\n",
      "2\n",
      "3\n",
      "4\n",
      "5\n",
      "6\n",
      "7\n",
      "8\n",
      "9\n",
      "10\n",
      "[0, 1, 4, 9, 16, 25, 36, 49, 64, 81]\n"
     ]
    }
   ],
   "source": [
    "l=[]\n",
    "for i in range(10):\n",
    "    print(i+1)\n",
    "    l.append(i**2)\n",
    "print(l)"
   ]
  },
  {
   "cell_type": "code",
   "execution_count": 129,
   "id": "c5281da6",
   "metadata": {},
   "outputs": [
    {
     "name": "stdout",
     "output_type": "stream",
     "text": [
      "1\n",
      "3\n",
      "5\n",
      "7\n",
      "9\n",
      "[0, 4, 16, 36, 64]\n"
     ]
    }
   ],
   "source": [
    "l=[]\n",
    "for i in range(0,10,2):\n",
    "    print(i+1)\n",
    "    l.append(i**2)\n",
    "print(l)"
   ]
  },
  {
   "cell_type": "code",
   "execution_count": 131,
   "id": "88803ef8",
   "metadata": {},
   "outputs": [
    {
     "name": "stdout",
     "output_type": "stream",
     "text": [
      "1\n",
      "4\n",
      "7\n",
      "10\n",
      "13\n",
      "16\n",
      "19\n",
      "[1, 16, 49, 100, 169, 256, 361]\n"
     ]
    }
   ],
   "source": [
    "l=[]\n",
    "for i in range(1,20,3):\n",
    "    print(i)\n",
    "    l.append(i**2)\n",
    "print(l)"
   ]
  },
  {
   "cell_type": "markdown",
   "id": "2cae5669",
   "metadata": {},
   "source": [
    "# Control flow (else in for loop)"
   ]
  },
  {
   "cell_type": "code",
   "execution_count": 133,
   "id": "3c02074c",
   "metadata": {},
   "outputs": [
    {
     "name": "stdout",
     "output_type": "stream",
     "text": [
      "apple\n",
      "cherry\n",
      "4.9\n",
      "loop terminates\n",
      "out side the loop\n"
     ]
    }
   ],
   "source": [
    "s= {\"apple\",4.9,\"cherry\"}\n",
    "for x in s:\n",
    "    print(x)\n",
    "    i+=1\n",
    "    if i==3:\n",
    "        break\n",
    "    else:\n",
    "        pass\n",
    "else:\n",
    "    print(\"loop terminates\")\n",
    "print(\"out side the loop\")"
   ]
  },
  {
   "cell_type": "markdown",
   "id": "c4f8bfc8",
   "metadata": {},
   "source": [
    "# Control flow (exploring a dictinary)"
   ]
  },
  {
   "cell_type": "code",
   "execution_count": 134,
   "id": "c162c437",
   "metadata": {},
   "outputs": [
    {
     "name": "stdout",
     "output_type": "stream",
     "text": [
      "apple 44\n",
      "cherry game\n"
     ]
    }
   ],
   "source": [
    "d= {\"apple\":44, \"cherry\":\"game\"}\n",
    "for x in d:\n",
    "    print(x,d[x])"
   ]
  },
  {
   "cell_type": "code",
   "execution_count": 139,
   "id": "8cb851bd",
   "metadata": {},
   "outputs": [
    {
     "data": {
      "text/plain": [
       "[-5, 2, 4, 1, 7, 9, 3, 2]"
      ]
     },
     "execution_count": 139,
     "metadata": {},
     "output_type": "execute_result"
    }
   ],
   "source": [
    "\"\"\" given a list of numbers i.e. [1,2,3,4,-5,7,9,3,2], make another list\n",
    "that \"\"\"\n",
    "l=[1,2,4,-5,7,9,3,2]\n",
    "m= l[0]\n",
    "idx= 0\n",
    "c= 0\n",
    "for i in l:\n",
    "    if i<m:\n",
    "        m=i\n",
    "        idx=c\n",
    "    c+=1\n",
    "tmp= l[0]\n",
    "l[0]=m\n",
    "l[idx]=tmp\n",
    "l"
   ]
  },
  {
   "cell_type": "code",
   "execution_count": 141,
   "id": "e7bfd085",
   "metadata": {},
   "outputs": [
    {
     "name": "stdout",
     "output_type": "stream",
     "text": [
      "[-5, 1, 2, 2, 3, 4, 7, 9]\n"
     ]
    }
   ],
   "source": [
    "l=[1,2,4,-5,7,9,3,2]\n",
    "for j in range(len(l)):\n",
    "    m= l[j]\n",
    "    idx= j\n",
    "    c= j\n",
    "    for i in range (j,len(l)):\n",
    "        if l[i]<m:\n",
    "            m=l[i]\n",
    "            idx=c\n",
    "        c+=1\n",
    "    tmp= l[j]\n",
    "    l[j]=m\n",
    "    l[idx]=tmp\n",
    "print(l)"
   ]
  },
  {
   "cell_type": "code",
   "execution_count": null,
   "id": "9f70812c",
   "metadata": {},
   "outputs": [],
   "source": []
  }
 ],
 "metadata": {
  "kernelspec": {
   "display_name": "Python 3 (ipykernel)",
   "language": "python",
   "name": "python3"
  },
  "language_info": {
   "codemirror_mode": {
    "name": "ipython",
    "version": 3
   },
   "file_extension": ".py",
   "mimetype": "text/x-python",
   "name": "python",
   "nbconvert_exporter": "python",
   "pygments_lexer": "ipython3",
   "version": "3.9.12"
  }
 },
 "nbformat": 4,
 "nbformat_minor": 5
}
